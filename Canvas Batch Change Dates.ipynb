{
 "cells": [
  {
   "cell_type": "markdown",
   "metadata": {},
   "source": [
    "# Canvas Batch Change Dates\n",
    "\n",
    "This script allows you to adjust the start and end times of multiple courses at once in Canvas. At each stage you will be asked to give certain inputs and asked confirmation steps before moving forward. Please read through all of the steps and confirm that you have all of the information needed.\n",
    "\n",
    "If any of the steps along the way fail, the script will not move forward. There should be indicators of why the failure occurred and steps to take to fix the errors.\n",
    "\n",
    "There are only two places where you might need to change text in the 'cells' below. The API_URL below should be your institution url. Near the end there is a section 'Get Course List for Changes' - you can also change the name of the csv with the courses (although I recommend naming your file 'start_end_courses.csv' for consistency).\n",
    "\n",
    "To Run:\n",
    "Once you have confirmed all of the steps\n",
    "\n",
    "Kernel -> Run All"
   ]
  },
  {
   "cell_type": "markdown",
   "metadata": {},
   "source": [
    "## 1. Token Validation\n",
    "This is the token validation stage. If you do not enter a valid token, nothing else will happen."
   ]
  },
  {
   "cell_type": "code",
   "execution_count": null,
   "metadata": {},
   "outputs": [],
   "source": [
    "from canvas_batch_change_dates import initialize\n",
    "\n",
    "initialize()"
   ]
  },
  {
   "cell_type": "markdown",
   "metadata": {},
   "source": [
    "## 2. Fill out Input CSV\n",
    "1. You should have a csv called `courses_start_end.csv` in `data/input` that has the columns **course_id**, **start_date**, and **end_date** with a list of courses that you want to apply changes to.\n",
    "1. Please ensure the dates are formatted as **YYYY-MM-DD** or **YYYY-MM-DD HH:MM** in your file. If you have used Excel, the columns should be formatted as a \"Short Date\" (YYYY-MM-DD) or \"Long Date\" (YYYY-MM-DD HH:MM). \n",
    "    * The script assumes that the dates are for Vancouver\n",
    "    * The start_date will assume the time of start is 12:00am that day\n",
    "    * The end_date will assume the time of end is 11:59pm that day\n",
    "\n",
    "\n",
    "Once you have completed the script, **start_end_courses.csv** will be copied to the `/completed` folder and timestamped in the filename.\n"
   ]
  },
  {
   "cell_type": "markdown",
   "metadata": {},
   "source": [
    "## 3. Set Participation Dates\n",
    "\n",
    "The default setting for restricting participations to course dates is **None**. This will keep whatever setting was initially established. You can change this value below to **True** or **False** \n",
    "\n",
    "**None** will keep settings as is. \n",
    "**True** will restrict participation to within the given dates.\n",
    "**False** will allow participation outside of the given dates. "
   ]
  },
  {
   "cell_type": "code",
   "execution_count": null,
   "metadata": {},
   "outputs": [],
   "source": [
    "# restrict_participation_to_dates can be True, False, or None\n",
    "restrict_participation_to_dates = True"
   ]
  },
  {
   "cell_type": "markdown",
   "metadata": {},
   "source": [
    "## 4. Apply the Changes\n",
    "In this step you will be asked to confirm the csv that is being read, and to confirm the start and end date changes that will occur.\n",
    "You should see indicators for success or failure for each of the courses as the script runs."
   ]
  },
  {
   "cell_type": "code",
   "execution_count": null,
   "metadata": {},
   "outputs": [],
   "source": [
    "from datetime import datetime\n",
    "from canvas_batch_change_dates import get_courses_df, create_course_update_df\n",
    "\n",
    "# NOW is the time you made the update, not the time the csv is output\n",
    "NOW = datetime.now()\n",
    "\n",
    "courses_df = get_courses_df('data/input/start_end_courses.csv')\n",
    "\n",
    "details = create_course_update_df(courses_df, restrict_participation_to_dates)\n",
    "\n",
    "print('\\nTotal Courses: {}\\n'.format(len(details)))\n",
    "display(details)"
   ]
  },
  {
   "cell_type": "markdown",
   "metadata": {},
   "source": [
    "## 5. Generate Final Output\n",
    "The final output will be a csv with the changes that have taken place (if confirmed in the step above)."
   ]
  },
  {
   "cell_type": "code",
   "execution_count": null,
   "metadata": {},
   "outputs": [],
   "source": [
    "from canvas_batch_change_dates import output_csv\n",
    "\n",
    "output_csv(details)"
   ]
  }
 ],
 "metadata": {
  "kernelspec": {
   "display_name": "Python 3",
   "language": "python",
   "name": "python3"
  },
  "language_info": {
   "codemirror_mode": {
    "name": "ipython",
    "version": 3
   },
   "file_extension": ".py",
   "mimetype": "text/x-python",
   "name": "python",
   "nbconvert_exporter": "python",
   "pygments_lexer": "ipython3",
   "version": "3.9.0"
  }
 },
 "nbformat": 4,
 "nbformat_minor": 2
}
