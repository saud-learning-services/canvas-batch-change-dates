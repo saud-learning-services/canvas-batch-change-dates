{
 "cells": [
  {
   "cell_type": "markdown",
   "metadata": {},
   "source": [
    "# Canvas Batch Change Dates\n",
    "\n",
    "This script allows you to adjust the start and end times of multiple courses at once in Canvas. At each stage you will be asked to give certain inputs and asked confirmation steps before moving forward. Please read through all of the steps and confirm that you have all of the information needed.\n",
    "\n",
    "If any of the steps along the way fail, the script will not move forward. There should be indicators of why the failure occurred and steps to take to fix the errors.\n",
    "\n",
    "There are only two places where you might need to change text in the 'cells' below. The API_URL below should be your institution url. Near the end there is a section 'Get Course List for Changes' - you can also change the name of the csv with the courses (although I recommend naming your file 'start_end_courses.csv' for consistency).\n",
    "\n",
    "To Run:\n",
    "Once you have confirmed all of the steps\n",
    "\n",
    "Kernel -> Run All"
   ]
  },
  {
   "cell_type": "markdown",
   "metadata": {},
   "source": [
    "## 1. Token Validation\n",
    "This is the token validation stage. If you do not enter a valid token, nothing else will happen."
   ]
  },
  {
   "cell_type": "code",
   "execution_count": 1,
   "metadata": {},
   "outputs": [
    {
     "name": "stdout",
     "output_type": "stream",
     "text": [
      "Enter token: ········\n",
      "\u001b[32m\n",
      "Token Valid\u001b[0m\n",
      "\u001b[34m\n",
      "Hello Alison\u001b[0m\n"
     ]
    }
   ],
   "source": [
    "from canvas_batch_change_dates import initialize\n",
    "\n",
    "initialize()"
   ]
  },
  {
   "cell_type": "markdown",
   "metadata": {},
   "source": [
    "## 1. b) Create a course file from subaccount"
   ]
  },
  {
   "cell_type": "code",
   "execution_count": 2,
   "metadata": {},
   "outputs": [
    {
     "name": "stdout",
     "output_type": "stream",
     "text": [
      "Enter subaccount_id: ········\n"
     ]
    }
   ],
   "source": [
    "from canvas_batch_change_dates import create_courses_file\n",
    "\n",
    "account = create_courses_file()"
   ]
  },
  {
   "cell_type": "code",
   "execution_count": 5,
   "metadata": {},
   "outputs": [],
   "source": []
  },
  {
   "cell_type": "code",
   "execution_count": 15,
   "metadata": {},
   "outputs": [
    {
     "data": {
      "text/html": [
       "<div>\n",
       "<style scoped>\n",
       "    .dataframe tbody tr th:only-of-type {\n",
       "        vertical-align: middle;\n",
       "    }\n",
       "\n",
       "    .dataframe tbody tr th {\n",
       "        vertical-align: top;\n",
       "    }\n",
       "\n",
       "    .dataframe thead th {\n",
       "        text-align: right;\n",
       "    }\n",
       "</style>\n",
       "<table border=\"1\" class=\"dataframe\">\n",
       "  <thead>\n",
       "    <tr style=\"text-align: right;\">\n",
       "      <th></th>\n",
       "      <th>course_id</th>\n",
       "      <th>course_name</th>\n",
       "      <th>term</th>\n",
       "      <th>course_subaccount</th>\n",
       "      <th>course_subaccount_name</th>\n",
       "      <th>start_at</th>\n",
       "      <th>end_at</th>\n",
       "      <th>timezone</th>\n",
       "    </tr>\n",
       "  </thead>\n",
       "  <tbody>\n",
       "    <tr>\n",
       "      <th>0</th>\n",
       "      <td>1335</td>\n",
       "      <td>BAPA 560 300 Foundations of Managerial and Bus...</td>\n",
       "      <td>5</td>\n",
       "      <td>477</td>\n",
       "      <td>PMBA - Alumni</td>\n",
       "      <td>2018-03-13T03:26:00Z</td>\n",
       "      <td>2018-07-01T07:00:00Z</td>\n",
       "      <td>America/Los_Angeles</td>\n",
       "    </tr>\n",
       "    <tr>\n",
       "      <th>1</th>\n",
       "      <td>1406</td>\n",
       "      <td>UBC Professional MBA</td>\n",
       "      <td>2</td>\n",
       "      <td>479</td>\n",
       "      <td>PMBA – Class of 2023</td>\n",
       "      <td>2017-10-06T16:00:00Z</td>\n",
       "      <td>2020-08-01T07:00:00Z</td>\n",
       "      <td>America/Los_Angeles</td>\n",
       "    </tr>\n",
       "    <tr>\n",
       "      <th>2</th>\n",
       "      <td>2364</td>\n",
       "      <td>Professional Residency I</td>\n",
       "      <td>5</td>\n",
       "      <td>477</td>\n",
       "      <td>PMBA - Alumni</td>\n",
       "      <td>2017-11-23T19:55:00Z</td>\n",
       "      <td>2018-12-04T07:59:00Z</td>\n",
       "      <td>America/Los_Angeles</td>\n",
       "    </tr>\n",
       "    <tr>\n",
       "      <th>3</th>\n",
       "      <td>2586</td>\n",
       "      <td>BAAC 550 300 Foundations in Accounting - LOUIE</td>\n",
       "      <td>5</td>\n",
       "      <td>477</td>\n",
       "      <td>PMBA - Alumni</td>\n",
       "      <td>2018-01-06T21:29:00Z</td>\n",
       "      <td>None</td>\n",
       "      <td>America/Los_Angeles</td>\n",
       "    </tr>\n",
       "    <tr>\n",
       "      <th>4</th>\n",
       "      <td>2587</td>\n",
       "      <td>BABS 550 300 Application of Statistics in Mana...</td>\n",
       "      <td>5</td>\n",
       "      <td>477</td>\n",
       "      <td>PMBA - Alumni</td>\n",
       "      <td>2018-01-01T08:00:00Z</td>\n",
       "      <td>2018-04-30T07:00:00Z</td>\n",
       "      <td>America/Los_Angeles</td>\n",
       "    </tr>\n",
       "  </tbody>\n",
       "</table>\n",
       "</div>"
      ],
      "text/plain": [
       "   course_id                                        course_name  term  \\\n",
       "0       1335  BAPA 560 300 Foundations of Managerial and Bus...     5   \n",
       "1       1406                               UBC Professional MBA     2   \n",
       "2       2364                           Professional Residency I     5   \n",
       "3       2586     BAAC 550 300 Foundations in Accounting - LOUIE     5   \n",
       "4       2587  BABS 550 300 Application of Statistics in Mana...     5   \n",
       "\n",
       "   course_subaccount course_subaccount_name              start_at  \\\n",
       "0                477          PMBA - Alumni  2018-03-13T03:26:00Z   \n",
       "1                479   PMBA – Class of 2023  2017-10-06T16:00:00Z   \n",
       "2                477          PMBA - Alumni  2017-11-23T19:55:00Z   \n",
       "3                477          PMBA - Alumni  2018-01-06T21:29:00Z   \n",
       "4                477          PMBA - Alumni  2018-01-01T08:00:00Z   \n",
       "\n",
       "                 end_at             timezone  \n",
       "0  2018-07-01T07:00:00Z  America/Los_Angeles  \n",
       "1  2020-08-01T07:00:00Z  America/Los_Angeles  \n",
       "2  2018-12-04T07:59:00Z  America/Los_Angeles  \n",
       "3                  None  America/Los_Angeles  \n",
       "4  2018-04-30T07:00:00Z  America/Los_Angeles  "
      ]
     },
     "execution_count": 15,
     "metadata": {},
     "output_type": "execute_result"
    }
   ],
   "source": [
    "import pandas as pd\n",
    "from settings import CANVAS\n",
    "\n",
    "course_info = []\n",
    "\n",
    "for c in courses:\n",
    "    course_dict = {'course_id': c.id,\n",
    "        'course_name': c.name,\n",
    "        'term': c.enrollment_term_id,\n",
    "        'course_subaccount': c.account_id,\n",
    "        'course_subaccount_name': CANVAS.get_account(c.account_id).name,\n",
    "        'start_at' : c.start_at,\n",
    "        'end_at' : c.end_at,\n",
    "        'timezone' : c.time_zone}\n",
    "    \n",
    "    course_info.append(course_dict)\n",
    "    \n",
    "df = pd.DataFrame(course_info)\n",
    "df.head()"
   ]
  },
  {
   "cell_type": "code",
   "execution_count": null,
   "metadata": {},
   "outputs": [],
   "source": [
    "df.to_csv(\"subaccount 458 course information with start and end dates.csv\")"
   ]
  },
  {
   "cell_type": "markdown",
   "metadata": {},
   "source": [
    "## 2. Fill out Input CSV\n",
    "1. You should have a csv called `courses_start_end.csv` in `data/input` that has the columns **course_id**, **start_date**, and **end_date** with a list of courses that you want to apply changes to.\n",
    "1. Please ensure the dates are formatted as **YYYY-MM-DD** or **YYYY-MM-DD HH:MM** in your file. If you have used Excel, the columns should be formatted as a \"Short Date\" (YYYY-MM-DD) or \"Long Date\" (YYYY-MM-DD HH:MM). \n",
    "    * The script assumes that the dates are for Vancouver\n",
    "    * The start_date will assume the time of start is 12:00am that day\n",
    "    * The end_date will assume the time of end is 11:59pm that day\n",
    "\n",
    "\n",
    "Once you have completed the script, **start_end_courses.csv** will be copied to the `/completed` folder and timestamped in the filename.\n"
   ]
  },
  {
   "cell_type": "markdown",
   "metadata": {},
   "source": [
    "## 3. Set Participation Dates\n",
    "\n",
    "The default setting for restricting participations to course dates is **None**. This will keep whatever setting was initially established. You can change this value below to **True** or **False** \n",
    "\n",
    "**None** will keep settings as is. \n",
    "**True** will restrict participation to within the given dates.\n",
    "**False** will allow participation outside of the given dates. "
   ]
  },
  {
   "cell_type": "code",
   "execution_count": null,
   "metadata": {},
   "outputs": [],
   "source": [
    "# restrict_participation_to_dates can be True, False, or None\n",
    "restrict_participation_to_dates = True"
   ]
  },
  {
   "cell_type": "markdown",
   "metadata": {},
   "source": [
    "## 4. Apply the Changes\n",
    "In this step you will be asked to confirm the csv that is being read, and to confirm the start and end date changes that will occur.\n",
    "You should see indicators for success or failure for each of the courses as the script runs."
   ]
  },
  {
   "cell_type": "code",
   "execution_count": null,
   "metadata": {},
   "outputs": [],
   "source": [
    "from datetime import datetime\n",
    "from canvas_batch_change_dates import get_courses_df, create_course_update_df\n",
    "\n",
    "# NOW is the time you made the update, not the time the csv is output\n",
    "NOW = datetime.now()\n",
    "\n",
    "courses_df = get_courses_df('data/input/start_end_courses.csv')\n",
    "\n",
    "details = create_course_update_df(courses_df, restrict_participation_to_dates)\n",
    "\n",
    "print('\\nTotal Courses: {}\\n'.format(len(details)))\n",
    "display(details)"
   ]
  },
  {
   "cell_type": "markdown",
   "metadata": {},
   "source": [
    "## 5. Generate Final Output\n",
    "The final output will be a csv with the changes that have taken place (if confirmed in the step above)."
   ]
  },
  {
   "cell_type": "code",
   "execution_count": null,
   "metadata": {},
   "outputs": [],
   "source": [
    "from canvas_batch_change_dates import output_csv\n",
    "\n",
    "output_csv(details)"
   ]
  }
 ],
 "metadata": {
  "kernelspec": {
   "display_name": "Python 3",
   "language": "python",
   "name": "python3"
  },
  "language_info": {
   "codemirror_mode": {
    "name": "ipython",
    "version": 3
   },
   "file_extension": ".py",
   "mimetype": "text/x-python",
   "name": "python",
   "nbconvert_exporter": "python",
   "pygments_lexer": "ipython3",
   "version": "3.6.8"
  }
 },
 "nbformat": 4,
 "nbformat_minor": 2
}
